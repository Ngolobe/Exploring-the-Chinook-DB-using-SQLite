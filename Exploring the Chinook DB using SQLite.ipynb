{
 "cells": [
  {
   "cell_type": "markdown",
   "metadata": {},
   "source": [
    "## Introduction: Connecting to the Database"
   ]
  },
  {
   "cell_type": "code",
   "execution_count": 1,
   "metadata": {},
   "outputs": [],
   "source": [
    "%%capture\n",
    "%load_ext sql\n",
    "%sql sqlite:///chinook.db"
   ]
  },
  {
   "cell_type": "markdown",
   "metadata": {},
   "source": [
    "The database we are going to use for this project is the Chinook database (chinook).\n",
    "\n",
    "Chinook is a sample database available for SQL Server, Oracle, MySQL, etc. It can be created by running a single SQL script. Chinook database is an alternative to the Northwind database, being ideal for demos and testing ORM tools targeting single and multiple database servers."
   ]
  },
  {
   "cell_type": "markdown",
   "metadata": {},
   "source": [
    "## Information on the Tables and Views in the Database"
   ]
  },
  {
   "cell_type": "code",
   "execution_count": 2,
   "metadata": {},
   "outputs": [
    {
     "name": "stdout",
     "output_type": "stream",
     "text": [
      " * sqlite:///chinook.db\n",
      "Done.\n"
     ]
    },
    {
     "data": {
      "text/html": [
       "<table>\n",
       "    <tr>\n",
       "        <th>name</th>\n",
       "        <th>type</th>\n",
       "    </tr>\n",
       "    <tr>\n",
       "        <td>albums</td>\n",
       "        <td>table</td>\n",
       "    </tr>\n",
       "    <tr>\n",
       "        <td>sqlite_sequence</td>\n",
       "        <td>table</td>\n",
       "    </tr>\n",
       "    <tr>\n",
       "        <td>artists</td>\n",
       "        <td>table</td>\n",
       "    </tr>\n",
       "    <tr>\n",
       "        <td>customers</td>\n",
       "        <td>table</td>\n",
       "    </tr>\n",
       "    <tr>\n",
       "        <td>employees</td>\n",
       "        <td>table</td>\n",
       "    </tr>\n",
       "    <tr>\n",
       "        <td>genres</td>\n",
       "        <td>table</td>\n",
       "    </tr>\n",
       "    <tr>\n",
       "        <td>invoices</td>\n",
       "        <td>table</td>\n",
       "    </tr>\n",
       "    <tr>\n",
       "        <td>invoice_items</td>\n",
       "        <td>table</td>\n",
       "    </tr>\n",
       "    <tr>\n",
       "        <td>media_types</td>\n",
       "        <td>table</td>\n",
       "    </tr>\n",
       "    <tr>\n",
       "        <td>playlists</td>\n",
       "        <td>table</td>\n",
       "    </tr>\n",
       "    <tr>\n",
       "        <td>playlist_track</td>\n",
       "        <td>table</td>\n",
       "    </tr>\n",
       "    <tr>\n",
       "        <td>tracks</td>\n",
       "        <td>table</td>\n",
       "    </tr>\n",
       "    <tr>\n",
       "        <td>sqlite_stat1</td>\n",
       "        <td>table</td>\n",
       "    </tr>\n",
       "</table>"
      ],
      "text/plain": [
       "[('albums', 'table'),\n",
       " ('sqlite_sequence', 'table'),\n",
       " ('artists', 'table'),\n",
       " ('customers', 'table'),\n",
       " ('employees', 'table'),\n",
       " ('genres', 'table'),\n",
       " ('invoices', 'table'),\n",
       " ('invoice_items', 'table'),\n",
       " ('media_types', 'table'),\n",
       " ('playlists', 'table'),\n",
       " ('playlist_track', 'table'),\n",
       " ('tracks', 'table'),\n",
       " ('sqlite_stat1', 'table')]"
      ]
     },
     "execution_count": 2,
     "metadata": {},
     "output_type": "execute_result"
    }
   ],
   "source": [
    "%%sql\n",
    "SELECT\n",
    "    name,\n",
    "    type\n",
    "FROM sqlite_master\n",
    "WHERE type IN (\"table\",\"view\");"
   ]
  },
  {
   "cell_type": "markdown",
   "metadata": {},
   "source": [
    "From the results we can deduce that there are no views but only tables in the database. \n",
    "\n",
    "Let's describe the tables in the database in much more detail below."
   ]
  },
  {
   "cell_type": "markdown",
   "metadata": {},
   "source": [
    "##  Chinook Sample Database Tables"
   ]
  },
  {
   "cell_type": "markdown",
   "metadata": {},
   "source": [
    "There are 11 tables in the chinook sample database.\n",
    "- **employees** table: stores employees data such as employee id, last name, first name, etc. It also has a field named ReportsTo to specify who reports to whom.\n",
    "- **customers** table:  stores customers data.\n",
    "- **invoices & invoice_items** tables: these two tables store invoice data. The invoices table stores invoice header data and the invoice_items table stores the invoice line items data.\n",
    "- **artists** table stores artists data. It is a simple table that contains only the artist id and name.\n",
    "- **albums** table stores data about a list of tracks. Each album belongs to one artist. However, one artist may have multiple albums.\n",
    "- **media_types** table stores media types such as MPEG audio and AAC audio files.\n",
    "- **genres** table stores music types such as rock, jazz, metal, etc.\n",
    "- **tracks** table stores the data of songs. Each track belongs to one album.\n",
    "- **playlists & playlist_track** tables: playlists table store data about playlists. Each playlist contains a list of tracks. Each track may belong to multiple playlists. The relationship between the playlists table and tracks table is many-to-many. The playlist_track table is used to reflect this relationship."
   ]
  },
  {
   "cell_type": "markdown",
   "metadata": {},
   "source": [
    "## Schema Diagram"
   ]
  },
  {
   "cell_type": "markdown",
   "metadata": {},
   "source": [
    "The above tables in the chinook database are related to each other and they are pre-populated with data. Here database's data model design:"
   ]
  },
  {
   "cell_type": "markdown",
   "metadata": {},
   "source": [
    "<img src=\"https://cdn.sqlitetutorial.net/wp-content/uploads/2015/11/sqlite-sample-database-color.jpg\" />"
   ]
  },
  {
   "cell_type": "markdown",
   "metadata": {},
   "source": [
    "## Exploring the contents of some of the tables"
   ]
  },
  {
   "cell_type": "code",
   "execution_count": 11,
   "metadata": {},
   "outputs": [
    {
     "name": "stdout",
     "output_type": "stream",
     "text": [
      " * sqlite:///chinook.db\n",
      "Done.\n"
     ]
    },
    {
     "data": {
      "text/html": [
       "<table>\n",
       "    <tr>\n",
       "        <th>InvoiceLineId</th>\n",
       "        <th>InvoiceId</th>\n",
       "        <th>TrackId</th>\n",
       "        <th>UnitPrice</th>\n",
       "        <th>Quantity</th>\n",
       "    </tr>\n",
       "    <tr>\n",
       "        <td>1</td>\n",
       "        <td>1</td>\n",
       "        <td>2</td>\n",
       "        <td>0.99</td>\n",
       "        <td>1</td>\n",
       "    </tr>\n",
       "    <tr>\n",
       "        <td>2</td>\n",
       "        <td>1</td>\n",
       "        <td>4</td>\n",
       "        <td>0.99</td>\n",
       "        <td>1</td>\n",
       "    </tr>\n",
       "    <tr>\n",
       "        <td>3</td>\n",
       "        <td>2</td>\n",
       "        <td>6</td>\n",
       "        <td>0.99</td>\n",
       "        <td>1</td>\n",
       "    </tr>\n",
       "    <tr>\n",
       "        <td>4</td>\n",
       "        <td>2</td>\n",
       "        <td>8</td>\n",
       "        <td>0.99</td>\n",
       "        <td>1</td>\n",
       "    </tr>\n",
       "    <tr>\n",
       "        <td>5</td>\n",
       "        <td>2</td>\n",
       "        <td>10</td>\n",
       "        <td>0.99</td>\n",
       "        <td>1</td>\n",
       "    </tr>\n",
       "    <tr>\n",
       "        <td>6</td>\n",
       "        <td>2</td>\n",
       "        <td>12</td>\n",
       "        <td>0.99</td>\n",
       "        <td>1</td>\n",
       "    </tr>\n",
       "    <tr>\n",
       "        <td>7</td>\n",
       "        <td>3</td>\n",
       "        <td>16</td>\n",
       "        <td>0.99</td>\n",
       "        <td>1</td>\n",
       "    </tr>\n",
       "    <tr>\n",
       "        <td>8</td>\n",
       "        <td>3</td>\n",
       "        <td>20</td>\n",
       "        <td>0.99</td>\n",
       "        <td>1</td>\n",
       "    </tr>\n",
       "    <tr>\n",
       "        <td>9</td>\n",
       "        <td>3</td>\n",
       "        <td>24</td>\n",
       "        <td>0.99</td>\n",
       "        <td>1</td>\n",
       "    </tr>\n",
       "    <tr>\n",
       "        <td>10</td>\n",
       "        <td>3</td>\n",
       "        <td>28</td>\n",
       "        <td>0.99</td>\n",
       "        <td>1</td>\n",
       "    </tr>\n",
       "</table>"
      ],
      "text/plain": [
       "[(1, 1, 2, 0.99, 1),\n",
       " (2, 1, 4, 0.99, 1),\n",
       " (3, 2, 6, 0.99, 1),\n",
       " (4, 2, 8, 0.99, 1),\n",
       " (5, 2, 10, 0.99, 1),\n",
       " (6, 2, 12, 0.99, 1),\n",
       " (7, 3, 16, 0.99, 1),\n",
       " (8, 3, 20, 0.99, 1),\n",
       " (9, 3, 24, 0.99, 1),\n",
       " (10, 3, 28, 0.99, 1)]"
      ]
     },
     "execution_count": 11,
     "metadata": {},
     "output_type": "execute_result"
    }
   ],
   "source": [
    "%%sql\n",
    "SELECT *\n",
    "FROM invoice_items\n",
    "LIMIT 10"
   ]
  },
  {
   "cell_type": "code",
   "execution_count": 4,
   "metadata": {},
   "outputs": [
    {
     "name": "stdout",
     "output_type": "stream",
     "text": [
      " * sqlite:///chinook.db\n",
      "Done.\n"
     ]
    },
    {
     "data": {
      "text/html": [
       "<table>\n",
       "    <tr>\n",
       "        <th>CustomerId</th>\n",
       "        <th>FirstName</th>\n",
       "        <th>LastName</th>\n",
       "        <th>Company</th>\n",
       "        <th>Address</th>\n",
       "        <th>City</th>\n",
       "        <th>State</th>\n",
       "        <th>Country</th>\n",
       "        <th>PostalCode</th>\n",
       "        <th>Phone</th>\n",
       "        <th>Fax</th>\n",
       "        <th>Email</th>\n",
       "        <th>SupportRepId</th>\n",
       "    </tr>\n",
       "    <tr>\n",
       "        <td>16</td>\n",
       "        <td>Frank</td>\n",
       "        <td>Harris</td>\n",
       "        <td>Google Inc.</td>\n",
       "        <td>1600 Amphitheatre Parkway</td>\n",
       "        <td>Mountain View</td>\n",
       "        <td>CA</td>\n",
       "        <td>USA</td>\n",
       "        <td>94043-1351</td>\n",
       "        <td>+1 (650) 253-0000</td>\n",
       "        <td>+1 (650) 253-0000</td>\n",
       "        <td>fharris@google.com</td>\n",
       "        <td>4</td>\n",
       "    </tr>\n",
       "    <tr>\n",
       "        <td>17</td>\n",
       "        <td>Jack</td>\n",
       "        <td>Smith</td>\n",
       "        <td>Microsoft Corporation</td>\n",
       "        <td>1 Microsoft Way</td>\n",
       "        <td>Redmond</td>\n",
       "        <td>WA</td>\n",
       "        <td>USA</td>\n",
       "        <td>98052-8300</td>\n",
       "        <td>+1 (425) 882-8080</td>\n",
       "        <td>+1 (425) 882-8081</td>\n",
       "        <td>jacksmith@microsoft.com</td>\n",
       "        <td>5</td>\n",
       "    </tr>\n",
       "    <tr>\n",
       "        <td>18</td>\n",
       "        <td>Michelle</td>\n",
       "        <td>Brooks</td>\n",
       "        <td>None</td>\n",
       "        <td>627 Broadway</td>\n",
       "        <td>New York</td>\n",
       "        <td>NY</td>\n",
       "        <td>USA</td>\n",
       "        <td>10012-2612</td>\n",
       "        <td>+1 (212) 221-3546</td>\n",
       "        <td>+1 (212) 221-4679</td>\n",
       "        <td>michelleb@aol.com</td>\n",
       "        <td>3</td>\n",
       "    </tr>\n",
       "    <tr>\n",
       "        <td>19</td>\n",
       "        <td>Tim</td>\n",
       "        <td>Goyer</td>\n",
       "        <td>Apple Inc.</td>\n",
       "        <td>1 Infinite Loop</td>\n",
       "        <td>Cupertino</td>\n",
       "        <td>CA</td>\n",
       "        <td>USA</td>\n",
       "        <td>95014</td>\n",
       "        <td>+1 (408) 996-1010</td>\n",
       "        <td>+1 (408) 996-1011</td>\n",
       "        <td>tgoyer@apple.com</td>\n",
       "        <td>3</td>\n",
       "    </tr>\n",
       "    <tr>\n",
       "        <td>20</td>\n",
       "        <td>Dan</td>\n",
       "        <td>Miller</td>\n",
       "        <td>None</td>\n",
       "        <td>541 Del Medio Avenue</td>\n",
       "        <td>Mountain View</td>\n",
       "        <td>CA</td>\n",
       "        <td>USA</td>\n",
       "        <td>94040-111</td>\n",
       "        <td>+1 (650) 644-3358</td>\n",
       "        <td>None</td>\n",
       "        <td>dmiller@comcast.com</td>\n",
       "        <td>4</td>\n",
       "    </tr>\n",
       "    <tr>\n",
       "        <td>21</td>\n",
       "        <td>Kathy</td>\n",
       "        <td>Chase</td>\n",
       "        <td>None</td>\n",
       "        <td>801 W 4th Street</td>\n",
       "        <td>Reno</td>\n",
       "        <td>NV</td>\n",
       "        <td>USA</td>\n",
       "        <td>89503</td>\n",
       "        <td>+1 (775) 223-7665</td>\n",
       "        <td>None</td>\n",
       "        <td>kachase@hotmail.com</td>\n",
       "        <td>5</td>\n",
       "    </tr>\n",
       "    <tr>\n",
       "        <td>22</td>\n",
       "        <td>Heather</td>\n",
       "        <td>Leacock</td>\n",
       "        <td>None</td>\n",
       "        <td>120 S Orange Ave</td>\n",
       "        <td>Orlando</td>\n",
       "        <td>FL</td>\n",
       "        <td>USA</td>\n",
       "        <td>32801</td>\n",
       "        <td>+1 (407) 999-7788</td>\n",
       "        <td>None</td>\n",
       "        <td>hleacock@gmail.com</td>\n",
       "        <td>4</td>\n",
       "    </tr>\n",
       "    <tr>\n",
       "        <td>23</td>\n",
       "        <td>John</td>\n",
       "        <td>Gordon</td>\n",
       "        <td>None</td>\n",
       "        <td>69 Salem Street</td>\n",
       "        <td>Boston</td>\n",
       "        <td>MA</td>\n",
       "        <td>USA</td>\n",
       "        <td>2113</td>\n",
       "        <td>+1 (617) 522-1333</td>\n",
       "        <td>None</td>\n",
       "        <td>johngordon22@yahoo.com</td>\n",
       "        <td>4</td>\n",
       "    </tr>\n",
       "    <tr>\n",
       "        <td>24</td>\n",
       "        <td>Frank</td>\n",
       "        <td>Ralston</td>\n",
       "        <td>None</td>\n",
       "        <td>162 E Superior Street</td>\n",
       "        <td>Chicago</td>\n",
       "        <td>IL</td>\n",
       "        <td>USA</td>\n",
       "        <td>60611</td>\n",
       "        <td>+1 (312) 332-3232</td>\n",
       "        <td>None</td>\n",
       "        <td>fralston@gmail.com</td>\n",
       "        <td>3</td>\n",
       "    </tr>\n",
       "    <tr>\n",
       "        <td>25</td>\n",
       "        <td>Victor</td>\n",
       "        <td>Stevens</td>\n",
       "        <td>None</td>\n",
       "        <td>319 N. Frances Street</td>\n",
       "        <td>Madison</td>\n",
       "        <td>WI</td>\n",
       "        <td>USA</td>\n",
       "        <td>53703</td>\n",
       "        <td>+1 (608) 257-0597</td>\n",
       "        <td>None</td>\n",
       "        <td>vstevens@yahoo.com</td>\n",
       "        <td>5</td>\n",
       "    </tr>\n",
       "</table>"
      ],
      "text/plain": [
       "[(16, 'Frank', 'Harris', 'Google Inc.', '1600 Amphitheatre Parkway', 'Mountain View', 'CA', 'USA', '94043-1351', '+1 (650) 253-0000', '+1 (650) 253-0000', 'fharris@google.com', 4),\n",
       " (17, 'Jack', 'Smith', 'Microsoft Corporation', '1 Microsoft Way', 'Redmond', 'WA', 'USA', '98052-8300', '+1 (425) 882-8080', '+1 (425) 882-8081', 'jacksmith@microsoft.com', 5),\n",
       " (18, 'Michelle', 'Brooks', None, '627 Broadway', 'New York', 'NY', 'USA', '10012-2612', '+1 (212) 221-3546', '+1 (212) 221-4679', 'michelleb@aol.com', 3),\n",
       " (19, 'Tim', 'Goyer', 'Apple Inc.', '1 Infinite Loop', 'Cupertino', 'CA', 'USA', '95014', '+1 (408) 996-1010', '+1 (408) 996-1011', 'tgoyer@apple.com', 3),\n",
       " (20, 'Dan', 'Miller', None, '541 Del Medio Avenue', 'Mountain View', 'CA', 'USA', '94040-111', '+1 (650) 644-3358', None, 'dmiller@comcast.com', 4),\n",
       " (21, 'Kathy', 'Chase', None, '801 W 4th Street', 'Reno', 'NV', 'USA', '89503', '+1 (775) 223-7665', None, 'kachase@hotmail.com', 5),\n",
       " (22, 'Heather', 'Leacock', None, '120 S Orange Ave', 'Orlando', 'FL', 'USA', '32801', '+1 (407) 999-7788', None, 'hleacock@gmail.com', 4),\n",
       " (23, 'John', 'Gordon', None, '69 Salem Street', 'Boston', 'MA', 'USA', '2113', '+1 (617) 522-1333', None, 'johngordon22@yahoo.com', 4),\n",
       " (24, 'Frank', 'Ralston', None, '162 E Superior Street', 'Chicago', 'IL', 'USA', '60611', '+1 (312) 332-3232', None, 'fralston@gmail.com', 3),\n",
       " (25, 'Victor', 'Stevens', None, '319 N. Frances Street', 'Madison', 'WI', 'USA', '53703', '+1 (608) 257-0597', None, 'vstevens@yahoo.com', 5)]"
      ]
     },
     "execution_count": 4,
     "metadata": {},
     "output_type": "execute_result"
    }
   ],
   "source": [
    "%%sql\n",
    "SELECT *\n",
    "FROM customers\n",
    "where Country = 'USA'\n",
    "LIMIT 10;"
   ]
  },
  {
   "cell_type": "markdown",
   "metadata": {},
   "source": [
    "## Selecting New Albums to Purchase"
   ]
  },
  {
   "cell_type": "code",
   "execution_count": 12,
   "metadata": {},
   "outputs": [
    {
     "name": "stdout",
     "output_type": "stream",
     "text": [
      " * sqlite:///chinook.db\n",
      "Done.\n"
     ]
    },
    {
     "data": {
      "text/html": [
       "<table>\n",
       "    <tr>\n",
       "        <th>InvoiceLineId</th>\n",
       "        <th>InvoiceId</th>\n",
       "        <th>TrackId</th>\n",
       "        <th>UnitPrice</th>\n",
       "        <th>Quantity</th>\n",
       "    </tr>\n",
       "    <tr>\n",
       "        <td>74</td>\n",
       "        <td>13</td>\n",
       "        <td>462</td>\n",
       "        <td>0.99</td>\n",
       "        <td>1</td>\n",
       "    </tr>\n",
       "    <tr>\n",
       "        <td>723</td>\n",
       "        <td>134</td>\n",
       "        <td>907</td>\n",
       "        <td>0.99</td>\n",
       "        <td>1</td>\n",
       "    </tr>\n",
       "    <tr>\n",
       "        <td>724</td>\n",
       "        <td>134</td>\n",
       "        <td>909</td>\n",
       "        <td>0.99</td>\n",
       "        <td>1</td>\n",
       "    </tr>\n",
       "    <tr>\n",
       "        <td>782</td>\n",
       "        <td>145</td>\n",
       "        <td>1236</td>\n",
       "        <td>0.99</td>\n",
       "        <td>1</td>\n",
       "    </tr>\n",
       "    <tr>\n",
       "        <td>783</td>\n",
       "        <td>145</td>\n",
       "        <td>1245</td>\n",
       "        <td>0.99</td>\n",
       "        <td>1</td>\n",
       "    </tr>\n",
       "    <tr>\n",
       "        <td>784</td>\n",
       "        <td>145</td>\n",
       "        <td>1254</td>\n",
       "        <td>0.99</td>\n",
       "        <td>1</td>\n",
       "    </tr>\n",
       "    <tr>\n",
       "        <td>785</td>\n",
       "        <td>145</td>\n",
       "        <td>1263</td>\n",
       "        <td>0.99</td>\n",
       "        <td>1</td>\n",
       "    </tr>\n",
       "    <tr>\n",
       "        <td>786</td>\n",
       "        <td>145</td>\n",
       "        <td>1272</td>\n",
       "        <td>0.99</td>\n",
       "        <td>1</td>\n",
       "    </tr>\n",
       "    <tr>\n",
       "        <td>787</td>\n",
       "        <td>145</td>\n",
       "        <td>1281</td>\n",
       "        <td>0.99</td>\n",
       "        <td>1</td>\n",
       "    </tr>\n",
       "    <tr>\n",
       "        <td>788</td>\n",
       "        <td>145</td>\n",
       "        <td>1290</td>\n",
       "        <td>0.99</td>\n",
       "        <td>1</td>\n",
       "    </tr>\n",
       "</table>"
      ],
      "text/plain": [
       "[(74, 13, 462, 0.99, 1),\n",
       " (723, 134, 907, 0.99, 1),\n",
       " (724, 134, 909, 0.99, 1),\n",
       " (782, 145, 1236, 0.99, 1),\n",
       " (783, 145, 1245, 0.99, 1),\n",
       " (784, 145, 1254, 0.99, 1),\n",
       " (785, 145, 1263, 0.99, 1),\n",
       " (786, 145, 1272, 0.99, 1),\n",
       " (787, 145, 1281, 0.99, 1),\n",
       " (788, 145, 1290, 0.99, 1)]"
      ]
     },
     "execution_count": 12,
     "metadata": {},
     "output_type": "execute_result"
    }
   ],
   "source": [
    "%%sql\n",
    "SELECT it.* FROM invoice_items it\n",
    "INNER JOIN invoices i on it.invoiceId = i.invoiceId\n",
    "INNER JOIN customers c on i.customerId = c.customerId\n",
    "WHERE c.Country = 'USA'\n",
    "LIMIT 10"
   ]
  },
  {
   "cell_type": "code",
   "execution_count": 6,
   "metadata": {},
   "outputs": [
    {
     "name": "stdout",
     "output_type": "stream",
     "text": [
      " * sqlite:///chinook.db\n",
      "Done.\n"
     ]
    },
    {
     "data": {
      "text/html": [
       "<table>\n",
       "    <tr>\n",
       "        <th>genre</th>\n",
       "        <th>tracks_sold</th>\n",
       "        <th>percentage_sold</th>\n",
       "    </tr>\n",
       "    <tr>\n",
       "        <td>Rock</td>\n",
       "        <td>157</td>\n",
       "        <td>0.31781376518218624</td>\n",
       "    </tr>\n",
       "    <tr>\n",
       "        <td>Latin</td>\n",
       "        <td>91</td>\n",
       "        <td>0.18421052631578946</td>\n",
       "    </tr>\n",
       "    <tr>\n",
       "        <td>Metal</td>\n",
       "        <td>64</td>\n",
       "        <td>0.12955465587044535</td>\n",
       "    </tr>\n",
       "    <tr>\n",
       "        <td>Alternative &amp; Punk</td>\n",
       "        <td>50</td>\n",
       "        <td>0.10121457489878542</td>\n",
       "    </tr>\n",
       "    <tr>\n",
       "        <td>Jazz</td>\n",
       "        <td>22</td>\n",
       "        <td>0.044534412955465584</td>\n",
       "    </tr>\n",
       "    <tr>\n",
       "        <td>Blues</td>\n",
       "        <td>15</td>\n",
       "        <td>0.030364372469635626</td>\n",
       "    </tr>\n",
       "    <tr>\n",
       "        <td>TV Shows</td>\n",
       "        <td>14</td>\n",
       "        <td>0.02834008097165992</td>\n",
       "    </tr>\n",
       "    <tr>\n",
       "        <td>R&amp;B/Soul</td>\n",
       "        <td>12</td>\n",
       "        <td>0.024291497975708502</td>\n",
       "    </tr>\n",
       "    <tr>\n",
       "        <td>Comedy</td>\n",
       "        <td>8</td>\n",
       "        <td>0.016194331983805668</td>\n",
       "    </tr>\n",
       "    <tr>\n",
       "        <td>Classical</td>\n",
       "        <td>8</td>\n",
       "        <td>0.016194331983805668</td>\n",
       "    </tr>\n",
       "</table>"
      ],
      "text/plain": [
       "[('Rock', 157, 0.31781376518218624),\n",
       " ('Latin', 91, 0.18421052631578946),\n",
       " ('Metal', 64, 0.12955465587044535),\n",
       " ('Alternative & Punk', 50, 0.10121457489878542),\n",
       " ('Jazz', 22, 0.044534412955465584),\n",
       " ('Blues', 15, 0.030364372469635626),\n",
       " ('TV Shows', 14, 0.02834008097165992),\n",
       " ('R&B/Soul', 12, 0.024291497975708502),\n",
       " ('Comedy', 8, 0.016194331983805668),\n",
       " ('Classical', 8, 0.016194331983805668)]"
      ]
     },
     "execution_count": 6,
     "metadata": {},
     "output_type": "execute_result"
    }
   ],
   "source": [
    "%%sql\n",
    "WITH tracks_sold_usa AS\n",
    "   (\n",
    "    SELECT it.* FROM invoice_items it\n",
    "    INNER JOIN invoices i on it.invoiceId = i.invoiceId\n",
    "    INNER JOIN customers c on i.customerId = c.customerId\n",
    "    WHERE c.Country = 'USA'\n",
    "   )\n",
    "    \n",
    "SELECT\n",
    "    g.name genre,\n",
    "    count(tsu.InvoiceLineId) tracks_sold,\n",
    "    cast(count(tsu.InvoiceLineId) AS FLOAT) / (\n",
    "        SELECT COUNT(*) from tracks_sold_usa\n",
    "    ) percentage_sold\n",
    "FROM tracks_sold_usa tsu\n",
    "INNER JOIN tracks t on t.trackid = tsu.trackid\n",
    "INNER JOIN genres g on g.genreid = t.genreid\n",
    "GROUP BY 1\n",
    "ORDER BY 2 DESC\n",
    "LIMIT 10;"
   ]
  },
  {
   "cell_type": "markdown",
   "metadata": {},
   "source": [
    "Based on the sales of tracks across different genres in the USA, we should purchase the new albums by the following artists:\n",
    "\n",
    "    Red Tone (Punk)\n",
    "    Slim Jim Bites (Blues)\n",
    "\n",
    "It's so strange that Hip Hop and Pop genres are not part of the list. It's worth investigating why. \n",
    "\n",
    "Also the results table suggests that we should be on the lookout for artists and albums from the 'rock' genre, which accounts for 32% of sales.\n"
   ]
  },
  {
   "cell_type": "markdown",
   "metadata": {},
   "source": [
    "## Employee Sales Performance"
   ]
  },
  {
   "cell_type": "code",
   "execution_count": 7,
   "metadata": {},
   "outputs": [
    {
     "name": "stdout",
     "output_type": "stream",
     "text": [
      " * sqlite:///chinook.db\n",
      "Done.\n"
     ]
    },
    {
     "data": {
      "text/html": [
       "<table>\n",
       "    <tr>\n",
       "        <th>employees</th>\n",
       "        <th>HireDate</th>\n",
       "        <th>total_sales</th>\n",
       "    </tr>\n",
       "    <tr>\n",
       "        <td>Jane Peacock</td>\n",
       "        <td>2002-04-01 00:00:00</td>\n",
       "        <td>833.0400000000001</td>\n",
       "    </tr>\n",
       "    <tr>\n",
       "        <td>Margaret Park</td>\n",
       "        <td>2003-05-03 00:00:00</td>\n",
       "        <td>775.4000000000001</td>\n",
       "    </tr>\n",
       "    <tr>\n",
       "        <td>Steve Johnson</td>\n",
       "        <td>2003-10-17 00:00:00</td>\n",
       "        <td>720.1600000000001</td>\n",
       "    </tr>\n",
       "</table>"
      ],
      "text/plain": [
       "[('Jane Peacock', '2002-04-01 00:00:00', 833.0400000000001),\n",
       " ('Margaret Park', '2003-05-03 00:00:00', 775.4000000000001),\n",
       " ('Steve Johnson', '2003-10-17 00:00:00', 720.1600000000001)]"
      ]
     },
     "execution_count": 7,
     "metadata": {},
     "output_type": "execute_result"
    }
   ],
   "source": [
    "%%sql\n",
    "\n",
    "WITH customer_support_rep_sales AS\n",
    "    (\n",
    "     SELECT\n",
    "         i.customerId,\n",
    "         c.supportRepId,\n",
    "         SUM(i.total) total\n",
    "     FROM invoices i\n",
    "     INNER JOIN customers c ON i.customerId = c.customerId\n",
    "     GROUP BY 1,2\n",
    "    )\n",
    "\n",
    "SELECT\n",
    "    e.firstName || \" \" || e.lastName employees,\n",
    "    e.hireDate,\n",
    "    SUM(csrs.total) total_sales\n",
    "FROM customer_support_rep_sales csrs\n",
    "INNER JOIN employees e ON e.employeeId = csrs.supportRepId\n",
    "GROUP BY 1;"
   ]
  },
  {
   "cell_type": "markdown",
   "metadata": {},
   "source": [
    "Even if the difference in sales between Jane (the top employee) and Steve (the bottom employee) is almost 14%, the difference is most likely due to the fact that Jane Peacock has stayed at the company for a longer period considering the difference in hiring dates."
   ]
  },
  {
   "cell_type": "markdown",
   "metadata": {},
   "source": [
    "## Sales by Country"
   ]
  },
  {
   "cell_type": "code",
   "execution_count": 8,
   "metadata": {},
   "outputs": [
    {
     "name": "stdout",
     "output_type": "stream",
     "text": [
      " * sqlite:///chinook.db\n",
      "Done.\n"
     ]
    },
    {
     "data": {
      "text/html": [
       "<table>\n",
       "    <tr>\n",
       "        <th>country</th>\n",
       "        <th>customers</th>\n",
       "        <th>total_sales</th>\n",
       "        <th>average_order</th>\n",
       "        <th>customer_lifetime_value</th>\n",
       "    </tr>\n",
       "    <tr>\n",
       "        <td>USA</td>\n",
       "        <td>13</td>\n",
       "        <td>523.060000000003</td>\n",
       "        <td>5.747912087912121</td>\n",
       "        <td>40.235384615384845</td>\n",
       "    </tr>\n",
       "    <tr>\n",
       "        <td>Canada</td>\n",
       "        <td>8</td>\n",
       "        <td>303.9600000000013</td>\n",
       "        <td>5.427857142857166</td>\n",
       "        <td>37.99500000000016</td>\n",
       "    </tr>\n",
       "    <tr>\n",
       "        <td>France</td>\n",
       "        <td>5</td>\n",
       "        <td>195.1000000000003</td>\n",
       "        <td>5.574285714285723</td>\n",
       "        <td>39.02000000000006</td>\n",
       "    </tr>\n",
       "    <tr>\n",
       "        <td>Brazil</td>\n",
       "        <td>5</td>\n",
       "        <td>190.10000000000028</td>\n",
       "        <td>5.4314285714285795</td>\n",
       "        <td>38.02000000000005</td>\n",
       "    </tr>\n",
       "    <tr>\n",
       "        <td>Germany</td>\n",
       "        <td>4</td>\n",
       "        <td>156.48</td>\n",
       "        <td>5.588571428571428</td>\n",
       "        <td>39.12</td>\n",
       "    </tr>\n",
       "    <tr>\n",
       "        <td>United Kingdom</td>\n",
       "        <td>3</td>\n",
       "        <td>112.85999999999979</td>\n",
       "        <td>5.374285714285704</td>\n",
       "        <td>37.619999999999926</td>\n",
       "    </tr>\n",
       "    <tr>\n",
       "        <td>Czech Republic</td>\n",
       "        <td>2</td>\n",
       "        <td>90.23999999999997</td>\n",
       "        <td>6.445714285714283</td>\n",
       "        <td>45.11999999999998</td>\n",
       "    </tr>\n",
       "    <tr>\n",
       "        <td>Portugal</td>\n",
       "        <td>2</td>\n",
       "        <td>77.23999999999998</td>\n",
       "        <td>5.517142857142856</td>\n",
       "        <td>38.61999999999999</td>\n",
       "    </tr>\n",
       "    <tr>\n",
       "        <td>India</td>\n",
       "        <td>2</td>\n",
       "        <td>75.25999999999998</td>\n",
       "        <td>5.789230769230768</td>\n",
       "        <td>37.62999999999999</td>\n",
       "    </tr>\n",
       "    <tr>\n",
       "        <td>Other</td>\n",
       "        <td>15</td>\n",
       "        <td>604.3000000000037</td>\n",
       "        <td>5.755238095238131</td>\n",
       "        <td>40.28666666666691</td>\n",
       "    </tr>\n",
       "</table>"
      ],
      "text/plain": [
       "[('USA', 13, 523.060000000003, 5.747912087912121, 40.235384615384845),\n",
       " ('Canada', 8, 303.9600000000013, 5.427857142857166, 37.99500000000016),\n",
       " ('France', 5, 195.1000000000003, 5.574285714285723, 39.02000000000006),\n",
       " ('Brazil', 5, 190.10000000000028, 5.4314285714285795, 38.02000000000005),\n",
       " ('Germany', 4, 156.48, 5.588571428571428, 39.12),\n",
       " ('United Kingdom', 3, 112.85999999999979, 5.374285714285704, 37.619999999999926),\n",
       " ('Czech Republic', 2, 90.23999999999997, 6.445714285714283, 45.11999999999998),\n",
       " ('Portugal', 2, 77.23999999999998, 5.517142857142856, 38.61999999999999),\n",
       " ('India', 2, 75.25999999999998, 5.789230769230768, 37.62999999999999),\n",
       " ('Other', 15, 604.3000000000037, 5.755238095238131, 40.28666666666691)]"
      ]
     },
     "execution_count": 8,
     "metadata": {},
     "output_type": "execute_result"
    }
   ],
   "source": [
    "%%sql\n",
    "\n",
    "WITH country_or_other AS\n",
    "    (\n",
    "     SELECT\n",
    "       CASE\n",
    "           WHEN (\n",
    "                 SELECT count(*)\n",
    "                 FROM customers\n",
    "                 where Country = c.Country\n",
    "                ) = 1 THEN \"Other\"\n",
    "           ELSE c.Country\n",
    "       END AS country,\n",
    "       c.customerId,\n",
    "       it.*\n",
    "     FROM invoice_items it\n",
    "     INNER JOIN invoices i ON i.invoiceId = it.invoiceId\n",
    "     INNER JOIN customers c ON c.customerId = i.customerId\n",
    "    )\n",
    "\n",
    "SELECT\n",
    "    country,\n",
    "    customers,\n",
    "    total_sales,\n",
    "    average_order,\n",
    "    customer_lifetime_value\n",
    "FROM\n",
    "    (\n",
    "    SELECT\n",
    "        country,\n",
    "        count(distinct customerId) customers,\n",
    "        SUM(unitPrice) total_sales,\n",
    "        SUM(unitPrice) / count(distinct customerId) customer_lifetime_value,\n",
    "        SUM(unitPrice) / count(distinct invoiceId) average_order,\n",
    "        CASE\n",
    "            WHEN country = \"Other\" THEN 1\n",
    "            ELSE 0\n",
    "        END AS sort\n",
    "    FROM country_or_other\n",
    "    GROUP BY country\n",
    "    ORDER BY sort ASC, total_sales DESC\n",
    "    );"
   ]
  },
  {
   "cell_type": "markdown",
   "metadata": {},
   "source": [
    "Based on the data, there may be opportunity in Czech Republic, and India- considering they have quite high average order numbers.\n",
    "\n",
    "Also we should not forget the sample size from each of these countries is relatively low. \n",
    "Consequently, we should be cautious investing too much money on new marketing campaigns. \n",
    "Hence it would be wise to run small campaigns in these countries, collect and analyze the new customers to make sure that these trends hold with new customers."
   ]
  },
  {
   "cell_type": "markdown",
   "metadata": {},
   "source": [
    "## Albums vs Individual Tracks"
   ]
  },
  {
   "cell_type": "code",
   "execution_count": 9,
   "metadata": {},
   "outputs": [
    {
     "name": "stdout",
     "output_type": "stream",
     "text": [
      " * sqlite:///chinook.db\n",
      "Done.\n"
     ]
    },
    {
     "data": {
      "text/html": [
       "<table>\n",
       "    <tr>\n",
       "        <th>album_purchase</th>\n",
       "        <th>number_of_invoices</th>\n",
       "        <th>percent</th>\n",
       "    </tr>\n",
       "    <tr>\n",
       "        <td>no</td>\n",
       "        <td>410</td>\n",
       "        <td>0.9951456310679612</td>\n",
       "    </tr>\n",
       "    <tr>\n",
       "        <td>yes</td>\n",
       "        <td>2</td>\n",
       "        <td>0.0048543689320388345</td>\n",
       "    </tr>\n",
       "</table>"
      ],
      "text/plain": [
       "[('no', 410, 0.9951456310679612), ('yes', 2, 0.0048543689320388345)]"
      ]
     },
     "execution_count": 9,
     "metadata": {},
     "output_type": "execute_result"
    }
   ],
   "source": [
    "%%sql\n",
    "\n",
    "WITH invoice_first_track AS\n",
    "    (\n",
    "     SELECT\n",
    "         it.invoiceId invoiceId,\n",
    "         MIN(it.trackId) first_track_id\n",
    "     FROM invoice_items it\n",
    "     GROUP BY 1\n",
    "    )\n",
    "\n",
    "SELECT\n",
    "    album_purchase,\n",
    "    COUNT(invoiceId) number_of_invoices,\n",
    "    CAST(count(invoiceId) AS FLOAT) / (\n",
    "                                         SELECT COUNT(*) FROM invoices\n",
    "                                      ) percent\n",
    "FROM\n",
    "    (\n",
    "    SELECT\n",
    "        ifs.*,\n",
    "        CASE\n",
    "            WHEN\n",
    "                 (\n",
    "                  SELECT t.trackId FROM tracks t\n",
    "                  WHERE t.albumId = (\n",
    "                                      SELECT t2.albumId FROM tracks t2\n",
    "                                      WHERE t2.trackId = ifs.first_track_id\n",
    "                                     ) \n",
    "\n",
    "                  EXCEPT \n",
    "\n",
    "                  SELECT it2.trackId FROM invoice_items it2\n",
    "                  WHERE it2.invoiceId = ifs.invoiceId\n",
    "                 ) IS NULL\n",
    "             AND\n",
    "                 (\n",
    "                  SELECT it2.trackId FROM invoice_items it2\n",
    "                  WHERE it2.invoiceId = ifs.invoiceId\n",
    "\n",
    "                  EXCEPT \n",
    "\n",
    "                  SELECT t.trackId FROM tracks t\n",
    "                  WHERE t.albumId = (\n",
    "                                      SELECT t2.albumId FROM tracks t2\n",
    "                                      WHERE t2.trackId = ifs.first_track_id\n",
    "                                     ) \n",
    "                 ) IS NULL\n",
    "             THEN \"yes\"\n",
    "             ELSE \"no\"\n",
    "         END AS \"album_purchase\"\n",
    "     FROM invoice_first_track ifs\n",
    "    )\n",
    "GROUP BY album_purchase;"
   ]
  },
  {
   "cell_type": "markdown",
   "metadata": {},
   "source": [
    "Album purchases account for only 0.4% of purchases. Based on this data, I would suggest purchasing only select tracks from albums from record companies, since they account for almost 100% of revenue.\n"
   ]
  }
 ],
 "metadata": {
  "kernelspec": {
   "display_name": "Python 3",
   "language": "python",
   "name": "python3"
  },
  "language_info": {
   "codemirror_mode": {
    "name": "ipython",
    "version": 3
   },
   "file_extension": ".py",
   "mimetype": "text/x-python",
   "name": "python",
   "nbconvert_exporter": "python",
   "pygments_lexer": "ipython3",
   "version": "3.7.6"
  },
  "varInspector": {
   "cols": {
    "lenName": 16,
    "lenType": 16,
    "lenVar": 40
   },
   "kernels_config": {
    "python": {
     "delete_cmd_postfix": "",
     "delete_cmd_prefix": "del ",
     "library": "var_list.py",
     "varRefreshCmd": "print(var_dic_list())"
    },
    "r": {
     "delete_cmd_postfix": ") ",
     "delete_cmd_prefix": "rm(",
     "library": "var_list.r",
     "varRefreshCmd": "cat(var_dic_list()) "
    }
   },
   "types_to_exclude": [
    "module",
    "function",
    "builtin_function_or_method",
    "instance",
    "_Feature"
   ],
   "window_display": false
  }
 },
 "nbformat": 4,
 "nbformat_minor": 4
}
